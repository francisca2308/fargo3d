{
 "cells": [
  {
   "cell_type": "code",
   "execution_count": 12,
   "id": "25494bf3",
   "metadata": {},
   "outputs": [],
   "source": [
    "import re"
   ]
  },
  {
   "cell_type": "code",
   "execution_count": null,
   "id": "b221f5ad",
   "metadata": {},
   "outputs": [],
   "source": [
    "nx = 1024\n",
    "ny = 512\n",
    "output_name = 'dustydisk'\n",
    "\n",
    "archivo_par = '/home/fangulo/myforkfargo3d/fargo3d/setups/dustydisk/dustydisk.par'\n",
    "\n",
    "with open(archivo_par, 'r') as archivo:\n",
    "    lineas = archivo.readlines()\n",
    "\n",
    "with open(archivo_par, 'w') as archivo:\n",
    "    for linea in lineas:\n",
    "        if re.match(r'^\\s*Nx\\b', linea):\n",
    "            archivo.write(f\"Nx               {nx}\\n\")\n",
    "        elif re.match(r'^\\s*Ny\\b', linea):\n",
    "            archivo.write(f\"Ny               {ny}\\n\")  \n",
    "        elif re.match(r'^\\s*OutputDir\\b', linea):\n",
    "            archivo.write(f\"OutputDir       @outputs/{output_name}\\n\")\n",
    "        else:\n",
    "                archivo.write(linea)\n",
    "\n"
   ]
  },
  {
   "cell_type": "code",
   "execution_count": null,
   "id": "1af89216",
   "metadata": {},
   "outputs": [],
   "source": []
  }
 ],
 "metadata": {
  "kernelspec": {
   "display_name": "entorno",
   "language": "python",
   "name": "python3"
  },
  "language_info": {
   "codemirror_mode": {
    "name": "ipython",
    "version": 3
   },
   "file_extension": ".py",
   "mimetype": "text/x-python",
   "name": "python",
   "nbconvert_exporter": "python",
   "pygments_lexer": "ipython3",
   "version": "3.9.16"
  }
 },
 "nbformat": 4,
 "nbformat_minor": 5
}
