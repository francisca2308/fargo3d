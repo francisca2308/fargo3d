{
 "cells": [
  {
   "cell_type": "markdown",
   "id": "be6c883e",
   "metadata": {},
   "source": [
    "Use this notebook inside the directory "
   ]
  },
  {
   "cell_type": "code",
   "execution_count": 1,
   "id": "b88e2470",
   "metadata": {},
   "outputs": [
    {
     "name": "stdout",
     "output_type": "stream",
     "text": [
      "Populating the interactive namespace from numpy and matplotlib\n"
     ]
    }
   ],
   "source": [
    "%pylab inline"
   ]
  },
  {
   "cell_type": "code",
   "execution_count": 25,
   "id": "fb333c21",
   "metadata": {},
   "outputs": [],
   "source": [
    "#La simulacion es 2D periodica en coordenadas esfericas"
   ]
  },
  {
   "cell_type": "code",
   "execution_count": 4,
   "id": "03aa5808",
   "metadata": {},
   "outputs": [],
   "source": [
    "#Numero de celdas de la simulacion\n",
    "Nz   = 32\n",
    "Ny   = 128"
   ]
  },
  {
   "cell_type": "code",
   "execution_count": 9,
   "id": "390a33dc",
   "metadata": {},
   "outputs": [],
   "source": [
    "#Densidad inicial\n",
    "vz0 = fromfile(\"outputs/p3diso/gasvz0_new.dat\").reshape(Nz,Ny)"
   ]
  },
  {
   "cell_type": "code",
   "execution_count": 13,
   "id": "6ba26089",
   "metadata": {},
   "outputs": [
    {
     "ename": "FileNotFoundError",
     "evalue": "[Errno 2] No such file or directory: 'outputs/p3diso/gasvz10_new.dat'",
     "output_type": "error",
     "traceback": [
      "\u001b[0;31m---------------------------------------------------------------------------\u001b[0m",
      "\u001b[0;31mFileNotFoundError\u001b[0m                         Traceback (most recent call last)",
      "\u001b[0;32m/tmp/ipykernel_57119/2055309795.py\u001b[0m in \u001b[0;36m<module>\u001b[0;34m\u001b[0m\n\u001b[1;32m      1\u001b[0m \u001b[0;31m#Densidad output n=100\u001b[0m\u001b[0;34m\u001b[0m\u001b[0;34m\u001b[0m\u001b[0m\n\u001b[0;32m----> 2\u001b[0;31m \u001b[0mvz\u001b[0m  \u001b[0;34m=\u001b[0m \u001b[0mfromfile\u001b[0m\u001b[0;34m(\u001b[0m\u001b[0;34m\"outputs/p3diso/gasvz10_new.dat\"\u001b[0m\u001b[0;34m)\u001b[0m\u001b[0;34m.\u001b[0m\u001b[0mreshape\u001b[0m\u001b[0;34m(\u001b[0m\u001b[0mNz\u001b[0m\u001b[0;34m,\u001b[0m\u001b[0mNy\u001b[0m\u001b[0;34m)\u001b[0m\u001b[0;34m\u001b[0m\u001b[0;34m\u001b[0m\u001b[0m\n\u001b[0m",
      "\u001b[0;31mFileNotFoundError\u001b[0m: [Errno 2] No such file or directory: 'outputs/p3diso/gasvz10_new.dat'"
     ]
    }
   ],
   "source": [
    "#Densidad output n=100\n",
    "vz  = fromfile(\"outputs/p3diso/gasvz10_new.dat\").reshape(Nz,Ny)"
   ]
  },
  {
   "cell_type": "code",
   "execution_count": 12,
   "id": "a35ace72",
   "metadata": {},
   "outputs": [
    {
     "data": {
      "text/plain": [
       "<matplotlib.colorbar.Colorbar at 0x7f70c5a5efa0>"
      ]
     },
     "execution_count": 12,
     "metadata": {},
     "output_type": "execute_result"
    },
    {
     "data": {
      "image/png": "[encoded data removed]",
      "text/plain": [
       "<Figure size 360x288 with 2 Axes>"
      ]
     },
     "metadata": {
      "needs_background": "light"
     },
     "output_type": "display_data"
    }
   ],
   "source": [
    "fig = figure(figsize(5,4))\n",
    "ax1 = subplot(111)\n",
    "im=ax1.imshow(vz0  ,origin='lower', aspect='auto',cmap='seismic' )\n",
    "colorbar(im)"
   ]
  },
  {
   "cell_type": "code",
   "execution_count": null,
   "id": "c5ec4387",
   "metadata": {},
   "outputs": [],
   "source": []
  }
 ],
 "metadata": {
  "kernelspec": {
   "display_name": "Python 3 (ipykernel)",
   "language": "python",
   "name": "python3"
  },
  "language_info": {
   "codemirror_mode": {
    "name": "ipython",
    "version": 3
   },
   "file_extension": ".py",
   "mimetype": "text/x-python",
   "name": "python",
   "nbconvert_exporter": "python",
   "pygments_lexer": "ipython3",
   "version": "3.9.7"
  }
 },
 "nbformat": 4,
 "nbformat_minor": 5
}
